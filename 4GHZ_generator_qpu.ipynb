{
 "cells": [
  {
   "cell_type": "markdown",
   "source": [
    "# Path-encoded 4-qubit GHZ states probabilistic generator"
   ],
   "metadata": {
    "collapsed": false,
    "pycharm": {
     "name": "#%% md\n"
    }
   }
  },
  {
   "cell_type": "markdown",
   "source": [
    "This notebook reproduces part of the results in https://arxiv.org/pdf/2211.15626.pdf .\n",
    "\n",
    "@Author: Mathias Pont (mathias.pont@c2n.upsaclay.fr)<br>\n",
    "@Affiliation:<br>\n",
    "Centre for Nanosciences and Nanotechnology, CNRS, Universite Paris-Saclay, UMR 9001,<br>\n",
    "10 Boulevard Thomas Gobert,<br>\n",
    "91120 Palaiseau, France<br>"
   ],
   "metadata": {
    "collapsed": false,
    "pycharm": {
     "name": "#%% md\n"
    }
   }
  },
  {
   "cell_type": "code",
   "execution_count": 1,
   "outputs": [],
   "source": [
    "import numpy as np\n",
    "import itertools\n",
    "import matplotlib.pyplot as plt\n",
    "plt.rcParams['figure.figsize'] = (16,8)"
   ],
   "metadata": {
    "collapsed": false,
    "pycharm": {
     "name": "#%%\n"
    }
   }
  },
  {
   "cell_type": "code",
   "execution_count": 2,
   "outputs": [],
   "source": [
    "import perceval as pcvl"
   ],
   "metadata": {
    "collapsed": false,
    "pycharm": {
     "name": "#%%\n"
    }
   }
  },
  {
   "cell_type": "code",
   "execution_count": 3,
   "outputs": [],
   "source": [
    "token_qcloud = '<your token cloud>'"
   ],
   "metadata": {
    "collapsed": false,
    "pycharm": {
     "name": "#%%\n"
    }
   }
  },
  {
   "cell_type": "code",
   "execution_count": 4,
   "outputs": [],
   "source": [
    "def postselect_output(output_state):\n",
    "    state_list = []\n",
    "    for m in str(output_state):\n",
    "        if m.isdigit():\n",
    "            state_list.append(m)\n",
    "\n",
    "    state = ''.join(state_list)\n",
    "    nb_of_result = 4 - state.count('0') + 1\n",
    "    s = nb_of_result * ['']\n",
    "    N = []\n",
    "    c = 1\n",
    "\n",
    "    for i in range(nb_of_result):\n",
    "        for party in range(4):\n",
    "            if int(state[2 * party]) == 0 and int(state[2 * party + 1]) > 0:\n",
    "                s[i] += '1'\n",
    "                N.append(int(state[2 * party + 1]))\n",
    "            if int(state[2 * party]) > 0 and int(state[2 * party + 1]) == 0:\n",
    "                s[i] += '0'\n",
    "                N.append(int(state[2 * party]))\n",
    "            if int(state[2 * party]) > 0 and int(state[2 * party + 1]) > 0:\n",
    "                if c % 2 == 0:\n",
    "                    s[i] += '1'\n",
    "                else:\n",
    "                    s[i] += '0'\n",
    "                N.append(int(state[2 * party]) + int(state[2 * party + 1]))\n",
    "        c += 1\n",
    "\n",
    "    if len(s) == 0 or len(s[0]) < 4:\n",
    "        return None, N\n",
    "    else:\n",
    "        return s, N"
   ],
   "metadata": {
    "collapsed": false,
    "pycharm": {
     "name": "#%%\n"
    }
   }
  },
  {
   "cell_type": "code",
   "execution_count": 5,
   "outputs": [],
   "source": [
    "class OpticalCircuit:\n",
    "\n",
    "    def __init__(self):\n",
    "\n",
    "        # An outcome is a 4-qubit state in the computational basis.\n",
    "        self.outcome = [\"\".join(i) for i in list(itertools.product(['0', '1'], repeat=4))]\n",
    "\n",
    "        # The circuit is the optical chip\n",
    "        self.circuit = pcvl.Circuit(m=8, name=\"GHZ\")\n",
    "\n",
    "        self.phase_shifters = []\n",
    "\n",
    "        for i in range(1, 9):\n",
    "            self.phase_shifters.append(pcvl.P(f'phi{i}'))\n",
    "        for i in range(4):\n",
    "            self.circuit.add((2 * i, 2 * i + 1), pcvl.BS())\n",
    "        for i in range(3):\n",
    "            self.circuit.add((2 * i + 1, 2 * i + 2), pcvl.PERM([1, 0]))\n",
    "        for i in range(4):\n",
    "            self.circuit.add(2 * i, pcvl.PS(self.phase_shifters[i]))\n",
    "        for i in range(4):\n",
    "            self.circuit.add((2 * i, 2 * i + 1), pcvl.BS())\n",
    "        for i in range(4):\n",
    "            self.circuit.add(2 * i, pcvl.PS(self.phase_shifters[i + 4]))\n",
    "        for i in range(4):\n",
    "            self.circuit.add((2 * i, 2 * i + 1), pcvl.BS())\n",
    "\n",
    "        # Measurement defines the 1-qubit Pauli projectors in the path-encoded scheme.\n",
    "        self.measurement = dict()\n",
    "\n",
    "        self.measurement['sigmax'] = [0, np.pi / 2]\n",
    "        self.measurement['sigmay'] = [np.pi/2, np.pi / 2]\n",
    "        self.measurement['sigmaz'] = [0, np.pi]\n",
    "        self.measurement['Id'] = [0, np.pi]"
   ],
   "metadata": {
    "collapsed": false,
    "pycharm": {
     "name": "#%%\n"
    }
   }
  },
  {
   "cell_type": "code",
   "execution_count": 6,
   "outputs": [
    {
     "data": {
      "text/plain": "<drawSvg.drawing.Drawing at 0x16a69d3d0>",
      "image/svg+xml": "<?xml version=\"1.0\" encoding=\"UTF-8\"?>\n<svg xmlns=\"http://www.w3.org/2000/svg\" xmlns:xlink=\"http://www.w3.org/1999/xlink\"\n     width=\"750.0\" height=\"562.5\" viewBox=\"-29.5 0 600 450\">\n<defs>\n</defs>\n<path d=\"M10,25 L25,25\" stroke-width=\"1\" stroke=\"black\" stroke-linejoin=\"miter\" fill=\"none\" />\n<path d=\"M10,75 L25,75\" stroke-width=\"1\" stroke=\"black\" stroke-linejoin=\"miter\" fill=\"none\" />\n<path d=\"M10,125 L25,125\" stroke-width=\"1\" stroke=\"black\" stroke-linejoin=\"miter\" fill=\"none\" />\n<path d=\"M10,175 L25,175\" stroke-width=\"1\" stroke=\"black\" stroke-linejoin=\"miter\" fill=\"none\" />\n<path d=\"M10,225 L25,225\" stroke-width=\"1\" stroke=\"black\" stroke-linejoin=\"miter\" fill=\"none\" />\n<path d=\"M10,275 L25,275\" stroke-width=\"1\" stroke=\"black\" stroke-linejoin=\"miter\" fill=\"none\" />\n<path d=\"M10,325 L25,325\" stroke-width=\"1\" stroke=\"black\" stroke-linejoin=\"miter\" fill=\"none\" />\n<path d=\"M10,375 L25,375\" stroke-width=\"1\" stroke=\"black\" stroke-linejoin=\"miter\" fill=\"none\" />\n<path d=\"M37.9442,25.0002 C51.653800000000004,25.0002,51.5923,50.0,65.3019,50.0 M65.3038,50.0 C51.59219999999999,50.0,51.6538,74.9998,37.94409999999999,74.9998 M65.3038,49.99999999999999 L87.1884,49.99999999999999 M87.1884,49.99999999999999 C100.9,49.99999999999999,100.83840000000001,25.000199999999992,114.5481,25.000199999999992 M87.1884,49.99999999999999 C100.9,49.99999999999999,100.83840000000001,74.9998,114.5481,74.9998 M25.0,24.999999999999993 L38.0,24.999999999999993 M38.0019,74.9998 L25.0,74.9998 M112.6453,74.9998 L125.0,74.9998 M112.1944,24.999799999999993 L125.0,24.999799999999993\" stroke-width=\"1\" stroke=\"black\" stroke-linejoin=\"miter\" fill=\"none\" />\n<text x=\"75\" y=\"38\" font-size=\"7\" text-anchor=\"middle\" dy=\"0em\"></text>\n<path d=\"M97,53 L107,53 L107,63 L97,63 Z\" stroke=\"black\" fill=\"thistle\" stroke-linejoin=\"miter\" />\n<text x=\"102\" y=\"60\" font-size=\"6\" text-anchor=\"middle\" dy=\"0em\">Rx</text>\n<path d=\"M37.9442,125.0002 C51.653800000000004,125.0002,51.5923,150.0,65.3019,150.0 M65.3038,150.0 C51.59219999999999,150.0,51.6538,174.9998,37.94409999999999,174.9998 M65.3038,150.0 L87.1884,150.0 M87.1884,150.0 C100.9,150.0,100.83840000000001,125.0002,114.5481,125.0002 M87.1884,150.0 C100.9,150.0,100.83840000000001,174.9998,114.5481,174.9998 M25.0,125.0 L38.0,125.0 M38.0019,174.9998 L25.0,174.9998 M112.6453,174.9998 L125.0,174.9998 M112.1944,124.9998 L125.0,124.9998\" stroke-width=\"1\" stroke=\"black\" stroke-linejoin=\"miter\" fill=\"none\" />\n<text x=\"75\" y=\"138\" font-size=\"7\" text-anchor=\"middle\" dy=\"0em\"></text>\n<path d=\"M97,153 L107,153 L107,163 L97,163 Z\" stroke=\"black\" fill=\"thistle\" stroke-linejoin=\"miter\" />\n<text x=\"102\" y=\"160\" font-size=\"6\" text-anchor=\"middle\" dy=\"0em\">Rx</text>\n<path d=\"M37.9442,225.0002 C51.653800000000004,225.0002,51.5923,250.0,65.3019,250.0 M65.3038,250.0 C51.59219999999999,250.0,51.6538,274.9998,37.94409999999999,274.9998 M65.3038,250.0 L87.1884,250.0 M87.1884,250.0 C100.9,250.0,100.83840000000001,225.0002,114.5481,225.0002 M87.1884,250.0 C100.9,250.0,100.83840000000001,274.9998,114.5481,274.9998 M25.0,225.0 L38.0,225.0 M38.0019,274.9998 L25.0,274.9998 M112.6453,274.9998 L125.0,274.9998 M112.1944,224.9998 L125.0,224.9998\" stroke-width=\"1\" stroke=\"black\" stroke-linejoin=\"miter\" fill=\"none\" />\n<text x=\"75\" y=\"238\" font-size=\"7\" text-anchor=\"middle\" dy=\"0em\"></text>\n<path d=\"M97,253 L107,253 L107,263 L97,263 Z\" stroke=\"black\" fill=\"thistle\" stroke-linejoin=\"miter\" />\n<text x=\"102\" y=\"260\" font-size=\"6\" text-anchor=\"middle\" dy=\"0em\">Rx</text>\n<path d=\"M37.9442,325.0002 C51.653800000000004,325.0002,51.5923,350.0,65.3019,350.0 M65.3038,350.0 C51.59219999999999,350.0,51.6538,374.9998,37.94409999999999,374.9998 M65.3038,350.0 L87.1884,350.0 M87.1884,350.0 C100.9,350.0,100.83840000000001,325.0002,114.5481,325.0002 M87.1884,350.0 C100.9,350.0,100.83840000000001,374.9998,114.5481,374.9998 M25.0,325.0 L38.0,325.0 M38.0019,374.9998 L25.0,374.9998 M112.6453,374.9998 L125.0,374.9998 M112.1944,324.9998 L125.0,324.9998\" stroke-width=\"1\" stroke=\"black\" stroke-linejoin=\"miter\" fill=\"none\" />\n<text x=\"75\" y=\"338\" font-size=\"7\" text-anchor=\"middle\" dy=\"0em\"></text>\n<path d=\"M97,353 L107,353 L107,363 L97,363 Z\" stroke=\"black\" fill=\"thistle\" stroke-linejoin=\"miter\" />\n<text x=\"102\" y=\"360\" font-size=\"6\" text-anchor=\"middle\" dy=\"0em\">Rx</text>\n<path d=\"M125,74.8 C145,75,155,125,175,125\" stroke-width=\"2\" stroke=\"white\" stroke-linejoin=\"miter\" fill=\"none\" />\n<path d=\"M125,75 C145,75,155,125,175,125\" stroke-width=\"1\" stroke=\"black\" stroke-linejoin=\"miter\" fill=\"none\" />\n<path d=\"M125,124.8 C145,125,155,75,175,75\" stroke-width=\"2\" stroke=\"white\" stroke-linejoin=\"miter\" fill=\"none\" />\n<path d=\"M125,125 C145,125,155,75,175,75\" stroke-width=\"1\" stroke=\"black\" stroke-linejoin=\"miter\" fill=\"none\" />\n<path d=\"M125,174.8 C145,175,155,225,175,225\" stroke-width=\"2\" stroke=\"white\" stroke-linejoin=\"miter\" fill=\"none\" />\n<path d=\"M125,175 C145,175,155,225,175,225\" stroke-width=\"1\" stroke=\"black\" stroke-linejoin=\"miter\" fill=\"none\" />\n<path d=\"M125,224.8 C145,225,155,175,175,175\" stroke-width=\"2\" stroke=\"white\" stroke-linejoin=\"miter\" fill=\"none\" />\n<path d=\"M125,225 C145,225,155,175,175,175\" stroke-width=\"1\" stroke=\"black\" stroke-linejoin=\"miter\" fill=\"none\" />\n<path d=\"M125,274.8 C145,275,155,325,175,325\" stroke-width=\"2\" stroke=\"white\" stroke-linejoin=\"miter\" fill=\"none\" />\n<path d=\"M125,275 C145,275,155,325,175,325\" stroke-width=\"1\" stroke=\"black\" stroke-linejoin=\"miter\" fill=\"none\" />\n<path d=\"M125,324.8 C145,325,155,275,175,275\" stroke-width=\"2\" stroke=\"white\" stroke-linejoin=\"miter\" fill=\"none\" />\n<path d=\"M125,325 C145,325,155,275,175,275\" stroke-width=\"1\" stroke=\"black\" stroke-linejoin=\"miter\" fill=\"none\" />\n<path d=\"M125,25 L145,25 M155,25 L175,25\" stroke-width=\"1\" stroke=\"black\" stroke-linejoin=\"miter\" fill=\"none\" />\n<path d=\"M140,35 L160,35 L160,15 L140,15 L140,35\" stroke-width=\"1\" stroke=\"black\" stroke-linejoin=\"miter\" fill=\"lightgray\" />\n<text x=\"150\" y=\"44\" font-size=\"7\" text-anchor=\"middle\" dy=\"0em\">Φ=phi1</text>\n<path d=\"M175,125 L195,125 M205,125 L225,125\" stroke-width=\"1\" stroke=\"black\" stroke-linejoin=\"miter\" fill=\"none\" />\n<path d=\"M190,135 L210,135 L210,115 L190,115 L190,135\" stroke-width=\"1\" stroke=\"black\" stroke-linejoin=\"miter\" fill=\"lightgray\" />\n<text x=\"200\" y=\"144\" font-size=\"7\" text-anchor=\"middle\" dy=\"0em\">Φ=phi2</text>\n<path d=\"M175,225 L195,225 M205,225 L225,225\" stroke-width=\"1\" stroke=\"black\" stroke-linejoin=\"miter\" fill=\"none\" />\n<path d=\"M190,235 L210,235 L210,215 L190,215 L190,235\" stroke-width=\"1\" stroke=\"black\" stroke-linejoin=\"miter\" fill=\"lightgray\" />\n<text x=\"200\" y=\"244\" font-size=\"7\" text-anchor=\"middle\" dy=\"0em\">Φ=phi3</text>\n<path d=\"M175,325 L195,325 M205,325 L225,325\" stroke-width=\"1\" stroke=\"black\" stroke-linejoin=\"miter\" fill=\"none\" />\n<path d=\"M190,335 L210,335 L210,315 L190,315 L190,335\" stroke-width=\"1\" stroke=\"black\" stroke-linejoin=\"miter\" fill=\"lightgray\" />\n<text x=\"200\" y=\"344\" font-size=\"7\" text-anchor=\"middle\" dy=\"0em\">Φ=phi4</text>\n<path d=\"M187.9442,25.0002 C201.6538,25.0002,201.5923,50.0,215.3019,50.0 M215.3038,50.0 C201.5922,50.0,201.6538,74.9998,187.9441,74.9998 M215.3038,49.99999999999999 L237.1884,49.99999999999999 M237.1884,49.99999999999999 C250.9,49.99999999999999,250.8384,25.000199999999992,264.5481,25.000199999999992 M237.18839999999997,49.99999999999999 C250.89999999999998,49.99999999999999,250.83839999999998,74.9998,264.5481,74.9998 M174.99999999999997,24.999999999999993 L187.99999999999997,24.999999999999993 M188.00189999999998,74.9998 L174.99999999999997,74.9998 M262.64529999999996,74.9998 L274.99999999999994,74.9998 M262.1944,24.999799999999993 L275.0,24.999799999999993\" stroke-width=\"1\" stroke=\"black\" stroke-linejoin=\"miter\" fill=\"none\" />\n<text x=\"225\" y=\"38\" font-size=\"7\" text-anchor=\"middle\" dy=\"0em\"></text>\n<path d=\"M247,53 L257,53 L257,63 L247,63 Z\" stroke=\"black\" fill=\"thistle\" stroke-linejoin=\"miter\" />\n<text x=\"252\" y=\"60\" font-size=\"6\" text-anchor=\"middle\" dy=\"0em\">Rx</text>\n<path d=\"M175,175 L225,175\" stroke=\"black\" stroke-width=\"1\" fill=\"none\" />\n<path d=\"M237.9442,125.0002 C251.6538,125.0002,251.5923,150.0,265.3019,150.0 M265.30379999999997,150.0 C251.59219999999996,150.0,251.65379999999996,174.9998,237.94409999999996,174.9998 M265.30379999999997,150.0 L287.18839999999994,150.0 M287.18839999999994,150.0 C300.9,150.0,300.8384,125.0002,314.5481,125.0002 M287.1884,150.0 C300.9,150.0,300.8384,174.9998,314.5481,174.9998 M224.99999999999997,125.0 L237.99999999999997,125.0 M238.00189999999998,174.9998 L224.99999999999997,174.9998 M312.64529999999996,174.9998 L324.99999999999994,174.9998 M312.1944,124.9998 L325.0,124.9998\" stroke-width=\"1\" stroke=\"black\" stroke-linejoin=\"miter\" fill=\"none\" />\n<text x=\"275\" y=\"138\" font-size=\"7\" text-anchor=\"middle\" dy=\"0em\"></text>\n<path d=\"M297,153 L307,153 L307,163 L297,163 Z\" stroke=\"black\" fill=\"thistle\" stroke-linejoin=\"miter\" />\n<text x=\"302\" y=\"160\" font-size=\"6\" text-anchor=\"middle\" dy=\"0em\">Rx</text>\n<path d=\"M175,275 L225,275\" stroke=\"black\" stroke-width=\"1\" fill=\"none\" />\n<path d=\"M237.9442,225.0002 C251.6538,225.0002,251.5923,250.0,265.3019,250.0 M265.30379999999997,250.0 C251.59219999999996,250.0,251.65379999999996,274.9998,237.94409999999996,274.9998 M265.30379999999997,250.0 L287.18839999999994,250.0 M287.18839999999994,250.0 C300.9,250.0,300.8384,225.0002,314.5481,225.0002 M287.1884,250.0 C300.9,250.0,300.8384,274.9998,314.5481,274.9998 M224.99999999999997,225.0 L237.99999999999997,225.0 M238.00189999999998,274.9998 L224.99999999999997,274.9998 M312.64529999999996,274.9998 L324.99999999999994,274.9998 M312.1944,224.9998 L325.0,224.9998\" stroke-width=\"1\" stroke=\"black\" stroke-linejoin=\"miter\" fill=\"none\" />\n<text x=\"275\" y=\"238\" font-size=\"7\" text-anchor=\"middle\" dy=\"0em\"></text>\n<path d=\"M297,253 L307,253 L307,263 L297,263 Z\" stroke=\"black\" fill=\"thistle\" stroke-linejoin=\"miter\" />\n<text x=\"302\" y=\"260\" font-size=\"6\" text-anchor=\"middle\" dy=\"0em\">Rx</text>\n<path d=\"M125,375 L225,375\" stroke=\"black\" stroke-width=\"1\" fill=\"none\" />\n<path d=\"M237.9442,325.0002 C251.6538,325.0002,251.5923,350.0,265.3019,350.0 M265.30379999999997,350.0 C251.59219999999996,350.0,251.65379999999996,374.9998,237.94409999999996,374.9998 M265.30379999999997,350.0 L287.18839999999994,350.0 M287.18839999999994,350.0 C300.9,350.0,300.8384,325.0002,314.5481,325.0002 M287.1884,350.0 C300.9,350.0,300.8384,374.9998,314.5481,374.9998 M224.99999999999997,325.0 L237.99999999999997,325.0 M238.00189999999998,374.9998 L224.99999999999997,374.9998 M312.64529999999996,374.9998 L324.99999999999994,374.9998 M312.1944,324.9998 L325.0,324.9998\" stroke-width=\"1\" stroke=\"black\" stroke-linejoin=\"miter\" fill=\"none\" />\n<text x=\"275\" y=\"338\" font-size=\"7\" text-anchor=\"middle\" dy=\"0em\"></text>\n<path d=\"M297,353 L307,353 L307,363 L297,363 Z\" stroke=\"black\" fill=\"thistle\" stroke-linejoin=\"miter\" />\n<text x=\"302\" y=\"360\" font-size=\"6\" text-anchor=\"middle\" dy=\"0em\">Rx</text>\n<path d=\"M275,25 L295,25 M305,25 L325,25\" stroke-width=\"1\" stroke=\"black\" stroke-linejoin=\"miter\" fill=\"none\" />\n<path d=\"M290,35 L310,35 L310,15 L290,15 L290,35\" stroke-width=\"1\" stroke=\"black\" stroke-linejoin=\"miter\" fill=\"lightgray\" />\n<text x=\"300\" y=\"44\" font-size=\"7\" text-anchor=\"middle\" dy=\"0em\">Φ=phi5</text>\n<path d=\"M325,125 L345,125 M355,125 L375,125\" stroke-width=\"1\" stroke=\"black\" stroke-linejoin=\"miter\" fill=\"none\" />\n<path d=\"M340,135 L360,135 L360,115 L340,115 L340,135\" stroke-width=\"1\" stroke=\"black\" stroke-linejoin=\"miter\" fill=\"lightgray\" />\n<text x=\"350\" y=\"144\" font-size=\"7\" text-anchor=\"middle\" dy=\"0em\">Φ=phi6</text>\n<path d=\"M325,225 L345,225 M355,225 L375,225\" stroke-width=\"1\" stroke=\"black\" stroke-linejoin=\"miter\" fill=\"none\" />\n<path d=\"M340,235 L360,235 L360,215 L340,215 L340,235\" stroke-width=\"1\" stroke=\"black\" stroke-linejoin=\"miter\" fill=\"lightgray\" />\n<text x=\"350\" y=\"244\" font-size=\"7\" text-anchor=\"middle\" dy=\"0em\">Φ=phi7</text>\n<path d=\"M325,325 L345,325 M355,325 L375,325\" stroke-width=\"1\" stroke=\"black\" stroke-linejoin=\"miter\" fill=\"none\" />\n<path d=\"M340,335 L360,335 L360,315 L340,315 L340,335\" stroke-width=\"1\" stroke=\"black\" stroke-linejoin=\"miter\" fill=\"lightgray\" />\n<text x=\"350\" y=\"344\" font-size=\"7\" text-anchor=\"middle\" dy=\"0em\">Φ=phi8</text>\n<path d=\"M275,75 L325,75\" stroke=\"black\" stroke-width=\"1\" fill=\"none\" />\n<path d=\"M337.9442,25.0002 C351.65380000000005,25.0002,351.5923,50.0,365.30190000000005,50.0 M365.3038,50.0 C351.59220000000005,50.0,351.65380000000005,74.9998,337.94410000000005,74.9998 M365.3038,49.99999999999999 L387.1884,49.99999999999999 M387.1884,49.99999999999999 C400.9,49.99999999999999,400.8384,25.000199999999992,414.5481,25.000199999999992 M387.1884,49.99999999999999 C400.9,49.99999999999999,400.8384,74.9998,414.5481,74.9998 M325.0,24.999999999999993 L338.0,24.999999999999993 M338.0019,74.9998 L325.0,74.9998 M412.6453,74.9998 L425.0,74.9998 M412.1944,24.999799999999993 L425.0,24.999799999999993\" stroke-width=\"1\" stroke=\"black\" stroke-linejoin=\"miter\" fill=\"none\" />\n<text x=\"375\" y=\"38\" font-size=\"7\" text-anchor=\"middle\" dy=\"0em\"></text>\n<path d=\"M397,53 L407,53 L407,63 L397,63 Z\" stroke=\"black\" fill=\"thistle\" stroke-linejoin=\"miter\" />\n<text x=\"402\" y=\"60\" font-size=\"6\" text-anchor=\"middle\" dy=\"0em\">Rx</text>\n<path d=\"M325,175 L375,175\" stroke=\"black\" stroke-width=\"1\" fill=\"none\" />\n<path d=\"M387.9442,125.0002 C401.65380000000005,125.0002,401.5923,150.0,415.30190000000005,150.0 M415.3038,150.0 C401.59220000000005,150.0,401.65380000000005,174.9998,387.94410000000005,174.9998 M415.3038,150.0 L437.1884,150.0 M437.1884,150.0 C450.9,150.0,450.8384,125.0002,464.5481,125.0002 M437.1884,150.0 C450.9,150.0,450.8384,174.9998,464.5481,174.9998 M375.0,125.0 L388.0,125.0 M388.0019,174.9998 L375.0,174.9998 M462.6453,174.9998 L475.0,174.9998 M462.1944,124.9998 L475.0,124.9998\" stroke-width=\"1\" stroke=\"black\" stroke-linejoin=\"miter\" fill=\"none\" />\n<text x=\"425\" y=\"138\" font-size=\"7\" text-anchor=\"middle\" dy=\"0em\"></text>\n<path d=\"M447,153 L457,153 L457,163 L447,163 Z\" stroke=\"black\" fill=\"thistle\" stroke-linejoin=\"miter\" />\n<text x=\"452\" y=\"160\" font-size=\"6\" text-anchor=\"middle\" dy=\"0em\">Rx</text>\n<path d=\"M325,275 L375,275\" stroke=\"black\" stroke-width=\"1\" fill=\"none\" />\n<path d=\"M387.9442,225.0002 C401.65380000000005,225.0002,401.5923,250.0,415.30190000000005,250.0 M415.3038,250.0 C401.59220000000005,250.0,401.65380000000005,274.9998,387.94410000000005,274.9998 M415.3038,250.0 L437.1884,250.0 M437.1884,250.0 C450.9,250.0,450.8384,225.0002,464.5481,225.0002 M437.1884,250.0 C450.9,250.0,450.8384,274.9998,464.5481,274.9998 M375.0,225.0 L388.0,225.0 M388.0019,274.9998 L375.0,274.9998 M462.6453,274.9998 L475.0,274.9998 M462.1944,224.9998 L475.0,224.9998\" stroke-width=\"1\" stroke=\"black\" stroke-linejoin=\"miter\" fill=\"none\" />\n<text x=\"425\" y=\"238\" font-size=\"7\" text-anchor=\"middle\" dy=\"0em\"></text>\n<path d=\"M447,253 L457,253 L457,263 L447,263 Z\" stroke=\"black\" fill=\"thistle\" stroke-linejoin=\"miter\" />\n<text x=\"452\" y=\"260\" font-size=\"6\" text-anchor=\"middle\" dy=\"0em\">Rx</text>\n<path d=\"M325,375 L375,375\" stroke=\"black\" stroke-width=\"1\" fill=\"none\" />\n<path d=\"M387.9442,325.0002 C401.65380000000005,325.0002,401.5923,350.0,415.30190000000005,350.0 M415.3038,350.0 C401.59220000000005,350.0,401.65380000000005,374.9998,387.94410000000005,374.9998 M415.3038,350.0 L437.1884,350.0 M437.1884,350.0 C450.9,350.0,450.8384,325.0002,464.5481,325.0002 M437.1884,350.0 C450.9,350.0,450.8384,374.9998,464.5481,374.9998 M375.0,325.0 L388.0,325.0 M388.0019,374.9998 L375.0,374.9998 M462.6453,374.9998 L475.0,374.9998 M462.1944,324.9998 L475.0,324.9998\" stroke-width=\"1\" stroke=\"black\" stroke-linejoin=\"miter\" fill=\"none\" />\n<text x=\"425\" y=\"338\" font-size=\"7\" text-anchor=\"middle\" dy=\"0em\"></text>\n<path d=\"M447,353 L457,353 L457,363 L447,363 Z\" stroke=\"black\" fill=\"thistle\" stroke-linejoin=\"miter\" />\n<text x=\"452\" y=\"360\" font-size=\"6\" text-anchor=\"middle\" dy=\"0em\">Rx</text>\n<path d=\"M425,25 L475,25\" stroke=\"black\" stroke-width=\"1\" fill=\"none\" />\n<path d=\"M425,75 L475,75\" stroke=\"black\" stroke-width=\"1\" fill=\"none\" />\n<path d=\"M475,25 L490,25\" stroke-width=\"1\" stroke=\"black\" stroke-linejoin=\"miter\" fill=\"none\" />\n<path d=\"M475,75 L490,75\" stroke-width=\"1\" stroke=\"black\" stroke-linejoin=\"miter\" fill=\"none\" />\n<path d=\"M475,125 L490,125\" stroke-width=\"1\" stroke=\"black\" stroke-linejoin=\"miter\" fill=\"none\" />\n<path d=\"M475,175 L490,175\" stroke-width=\"1\" stroke=\"black\" stroke-linejoin=\"miter\" fill=\"none\" />\n<path d=\"M475,225 L490,225\" stroke-width=\"1\" stroke=\"black\" stroke-linejoin=\"miter\" fill=\"none\" />\n<path d=\"M475,275 L490,275\" stroke-width=\"1\" stroke=\"black\" stroke-linejoin=\"miter\" fill=\"none\" />\n<path d=\"M475,325 L490,325\" stroke-width=\"1\" stroke=\"black\" stroke-linejoin=\"miter\" fill=\"none\" />\n<path d=\"M475,375 L490,375\" stroke-width=\"1\" stroke=\"black\" stroke-linejoin=\"miter\" fill=\"none\" />\n<text x=\"500\" y=\"28\" font-size=\"9\" text-anchor=\"end\" dy=\"0em\">0</text>\n<text x=\"500\" y=\"78\" font-size=\"9\" text-anchor=\"end\" dy=\"0em\">1</text>\n<text x=\"500\" y=\"128\" font-size=\"9\" text-anchor=\"end\" dy=\"0em\">2</text>\n<text x=\"500\" y=\"178\" font-size=\"9\" text-anchor=\"end\" dy=\"0em\">3</text>\n<text x=\"500\" y=\"228\" font-size=\"9\" text-anchor=\"end\" dy=\"0em\">4</text>\n<text x=\"500\" y=\"278\" font-size=\"9\" text-anchor=\"end\" dy=\"0em\">5</text>\n<text x=\"500\" y=\"328\" font-size=\"9\" text-anchor=\"end\" dy=\"0em\">6</text>\n<text x=\"500\" y=\"378\" font-size=\"9\" text-anchor=\"end\" dy=\"0em\">7</text>\n<text x=\"0\" y=\"28\" font-size=\"9\" text-anchor=\"start\" dy=\"0em\">0</text>\n<text x=\"0\" y=\"78\" font-size=\"9\" text-anchor=\"start\" dy=\"0em\">1</text>\n<text x=\"0\" y=\"128\" font-size=\"9\" text-anchor=\"start\" dy=\"0em\">2</text>\n<text x=\"0\" y=\"178\" font-size=\"9\" text-anchor=\"start\" dy=\"0em\">3</text>\n<text x=\"0\" y=\"228\" font-size=\"9\" text-anchor=\"start\" dy=\"0em\">4</text>\n<text x=\"0\" y=\"278\" font-size=\"9\" text-anchor=\"start\" dy=\"0em\">5</text>\n<text x=\"0\" y=\"328\" font-size=\"9\" text-anchor=\"start\" dy=\"0em\">6</text>\n<text x=\"0\" y=\"378\" font-size=\"9\" text-anchor=\"start\" dy=\"0em\">7</text>\n</svg>"
     },
     "execution_count": 6,
     "metadata": {},
     "output_type": "execute_result"
    }
   ],
   "source": [
    "chip = OpticalCircuit()\n",
    "# Display the interferometer.\n",
    "from perceval.rendering.circuit import SymbSkin, PhysSkin\n",
    "pcvl.pdisplay(chip.circuit, skin=SymbSkin())"
   ],
   "metadata": {
    "collapsed": false,
    "pycharm": {
     "name": "#%%\n"
    }
   }
  },
  {
   "cell_type": "code",
   "execution_count": 7,
   "outputs": [],
   "source": [
    "def compute_remote_async(qpu1: str = \"sim:ascella\",\n",
    "                         qpu2: str = \"sim:ascella\",\n",
    "                         token_qcloud: str = '<your personal token>',\n",
    "                         nsamples: float = 500,\n",
    "                         projector: tuple = ('sigmaz', 'sigmaz', 'sigmaz', 'sigmaz')):\n",
    "    \"\"\"\n",
    "    :param qpu1: The first qpu is used to compute the compiled_circuit and the compiled_input\n",
    "    :param qpu2: The second qpu is used to sample\n",
    "    :param token_qcloud: Quandela Cloud personal Token\n",
    "    :param nsamples: Number of 4-photon coincidences (only 1/8 are \"usefull\" <=> 1 and only 1 photon per qubit)\n",
    "    :param projector: 4-qubit Pauli projector in a tuple, e.g. ('sigmaz', 'sigmaz', 'sigmaz', 'sigmaz')\n",
    "    :return: async_job, job.id\n",
    "    \"\"\"\n",
    "\n",
    "    chip = OpticalCircuit()\n",
    "\n",
    "    # set up the phases of the chip corresponding to the 4-qubit Pauli projector\n",
    "    context_PS = []\n",
    "    for party in projector:\n",
    "        context_PS.append(chip.measurement[party])\n",
    "    # Psi is the first two (phase theta of the GHZ state)\n",
    "    # Phi is the phases of the MZIs\n",
    "    c_Psi = 0\n",
    "    c_Phi = 4\n",
    "    for phase_party in context_PS:\n",
    "        chip.phase_shifters[c_Psi].set_value(phase_party[0])\n",
    "        chip.phase_shifters[c_Phi].set_value(phase_party[1])\n",
    "        c_Psi += 1\n",
    "        c_Phi += 1\n",
    "\n",
    "    input_state = pcvl.BasicState([1, 0, 1, 0, 1, 0, 1, 0])\n",
    "    circuit = chip.circuit\n",
    "\n",
    "    # run the circuit on SIMULATOR first\n",
    "    remote_qpu = pcvl.RemoteProcessor(qpu1, token_qcloud)\n",
    "\n",
    "    remote_qpu.with_input(input_state)\n",
    "    remote_qpu.set_circuit(circuit)\n",
    "    remote_qpu.mode_post_selection(4)\n",
    "\n",
    "    # synchronous syntax\n",
    "    sampler = pcvl.algorithm.Sampler(remote_qpu)\n",
    "    job = sampler.sample_count(nsamples)\n",
    "\n",
    "    compiled_circuit = job[\"computed_circuit\"]\n",
    "    compiled_input = job[\"computed_input\"]\n",
    "\n",
    "    # Used compiled results to run the circuit on the HARDWARE\n",
    "    remote_qpu = pcvl.RemoteProcessor(qpu2, token_qcloud)\n",
    "\n",
    "    remote_qpu.with_input(compiled_input)\n",
    "    remote_qpu.set_circuit(compiled_circuit)\n",
    "    remote_qpu.mode_post_selection(4)\n",
    "\n",
    "    # synchronous syntax\n",
    "    sampler = pcvl.algorithm.Sampler(remote_qpu)\n",
    "    job = sampler.sample_count\n",
    "\n",
    "    async_job = job.execute_async(nsamples)\n",
    "\n",
    "    return async_job, job.id"
   ],
   "metadata": {
    "collapsed": false,
    "pycharm": {
     "name": "#%%\n"
    }
   }
  },
  {
   "cell_type": "code",
   "execution_count": 8,
   "outputs": [],
   "source": [
    "def get_job_results(qpu, token_qcloud, job_id, projector, normalize=True):\n",
    "    \"\"\"\n",
    "    :param qpu: The qpu used to sample in compute_remote_async()\n",
    "    :param token_qcloud: Quandela Cloud personal Token\n",
    "    :param job_id: job_id from which to get the async job\n",
    "    :param projector: 4-qubit Pauli projector in a tuple, e.g. ('sigmaz', 'sigmaz', 'sigmaz', 'sigmaz')\n",
    "    :param normalize: return emperical table in raw counts, or in probability.\n",
    "    :return: Perceval job, and emperical table\n",
    "    \"\"\"\n",
    "\n",
    "    remote_processor = pcvl.RemoteProcessor(qpu, token_qcloud)\n",
    "    job = remote_processor.resume_job(job_id)\n",
    "\n",
    "    sv_out = job.get_results()[\"results\"]\n",
    "\n",
    "    empirical_table = {projector: {}}\n",
    "\n",
    "    for output_state in sv_out:\n",
    "        all_possible_result, N = postselect_output(output_state)\n",
    "        if all_possible_result is not None:\n",
    "            for result in all_possible_result:\n",
    "                # Initialize the empirical table if this result doesn't exist yet.\n",
    "                if result not in empirical_table[projector]:\n",
    "                    empirical_table[projector][result] = sv_out[output_state]\n",
    "                # Add the probabilility to the result if it has already been created.\n",
    "                else:\n",
    "                    empirical_table[projector][result] += sv_out[output_state]\n",
    "\n",
    "    for outcome in chip.outcome:\n",
    "        if outcome not in empirical_table[projector]:\n",
    "            empirical_table[projector][outcome] = 0.0\n",
    "\n",
    "    norm_factor = np.sum([empirical_table[projector][x] for x in chip.outcome])\n",
    "    dict_normed = {}\n",
    "    for outcome in chip.outcome:\n",
    "        # if the probability is near 0, replace it by 0\n",
    "        if normalize:\n",
    "            dict_normed[outcome] = empirical_table[projector][outcome] / norm_factor\n",
    "        else:\n",
    "            dict_normed[outcome] = empirical_table[projector][outcome]\n",
    "    empirical_table[projector] = dict_normed\n",
    "\n",
    "    return job, empirical_table"
   ],
   "metadata": {
    "collapsed": false,
    "pycharm": {
     "name": "#%%\n"
    }
   }
  },
  {
   "cell_type": "code",
   "execution_count": 9,
   "outputs": [],
   "source": [
    "# qpu2 can be either \"sim:ascella\" or \"qpu:ascella\"\n",
    "qpu1 = \"sim:ascella\"\n",
    "qpu2 = \"sim:ascella\""
   ],
   "metadata": {
    "collapsed": false,
    "pycharm": {
     "name": "#%%\n"
    }
   }
  },
  {
   "cell_type": "code",
   "execution_count": 10,
   "outputs": [],
   "source": [
    "async_jobx, jobx_id = compute_remote_async(qpu1=qpu1,\n",
    "                                           qpu2=qpu2,\n",
    "                                           token_qcloud=token_qcloud,\n",
    "                                           nsamples=2000,\n",
    "                                           projector=('sigmax', 'sigmax', 'sigmax', 'sigmax'))\n",
    "async_jobz, jobz_id = compute_remote_async(qpu1=qpu1,\n",
    "                                           qpu2=qpu2,\n",
    "                                           token_qcloud=token_qcloud,\n",
    "                                           nsamples=2000,\n",
    "                                           projector=('sigmaz', 'sigmaz', 'sigmaz', 'sigmaz'))"
   ],
   "metadata": {
    "collapsed": false,
    "pycharm": {
     "name": "#%%\n"
    }
   }
  },
  {
   "cell_type": "code",
   "execution_count": 11,
   "outputs": [
    {
     "name": "stdout",
     "output_type": "stream",
     "text": [
      "True\n",
      "True\n"
     ]
    }
   ],
   "source": [
    "# Check if the job is done\n",
    "print(async_jobx.is_complete)\n",
    "print(async_jobz.is_complete)"
   ],
   "metadata": {
    "collapsed": false,
    "pycharm": {
     "name": "#%%\n"
    }
   }
  },
  {
   "cell_type": "code",
   "execution_count": 12,
   "outputs": [],
   "source": [
    "jobx, XXXX = get_job_results(qpu2,\n",
    "                             token_qcloud,\n",
    "                             jobx_id,\n",
    "                             projector=('sigmax', 'sigmax', 'sigmax', 'sigmax'),\n",
    "                             normalize=False)\n",
    "jobz, ZZZZ = get_job_results(qpu2,\n",
    "                             token_qcloud,\n",
    "                             jobz_id,\n",
    "                             projector=('sigmaz', 'sigmaz', 'sigmaz', 'sigmaz'),\n",
    "                             normalize=False)"
   ],
   "metadata": {
    "collapsed": false,
    "pycharm": {
     "name": "#%%\n"
    }
   }
  },
  {
   "cell_type": "code",
   "execution_count": 13,
   "outputs": [
    {
     "name": "stderr",
     "output_type": "stream",
     "text": [
      "/var/folders/90/kj8chdqx4pjgntv02_t1hhk00000gn/T/ipykernel_59998/2848571997.py:6: UserWarning: FixedFormatter should only be used together with FixedLocator\n",
      "  ax.set_xticklabels(XXXX[('sigmax', 'sigmax', 'sigmax', 'sigmax')].keys(), rotation=45, ha='center')\n",
      "/var/folders/90/kj8chdqx4pjgntv02_t1hhk00000gn/T/ipykernel_59998/2848571997.py:12: UserWarning: FixedFormatter should only be used together with FixedLocator\n",
      "  ax.set_xticklabels(ZZZZ[('sigmaz', 'sigmaz', 'sigmaz', 'sigmaz')].keys(), rotation=45, ha='center')\n"
     ]
    },
    {
     "data": {
      "text/plain": "[Text(0, 0, '0000'),\n Text(1, 0, '0001'),\n Text(2, 0, '0010'),\n Text(3, 0, '0011'),\n Text(4, 0, '0100'),\n Text(5, 0, '0101'),\n Text(6, 0, '0110'),\n Text(7, 0, '0111'),\n Text(8, 0, '1000'),\n Text(9, 0, '1001'),\n Text(10, 0, '1010'),\n Text(11, 0, '1011'),\n Text(12, 0, '1100'),\n Text(13, 0, '1101'),\n Text(14, 0, '1110'),\n Text(15, 0, '1111')]"
     },
     "execution_count": 13,
     "metadata": {},
     "output_type": "execute_result"
    },
    {
     "data": {
      "text/plain": "<Figure size 1152x576 with 1 Axes>",
      "image/png": "[encoded data removed]"
     },
     "metadata": {
      "needs_background": "light"
     },
     "output_type": "display_data"
    },
    {
     "data": {
      "text/plain": "<Figure size 1152x576 with 1 Axes>",
      "image/png": "[encoded data removed]"
     },
     "metadata": {
      "needs_background": "light"
     },
     "output_type": "display_data"
    }
   ],
   "source": [
    "# Plot the raw histograms\n",
    "fig, ax = plt.subplots()\n",
    "plt.bar(XXXX[('sigmax', 'sigmax', 'sigmax', 'sigmax')].keys(),\n",
    "        XXXX[('sigmax', 'sigmax', 'sigmax', 'sigmax')].values(),\n",
    "        yerr = [np.sqrt(i) for i in XXXX[('sigmax', 'sigmax', 'sigmax', 'sigmax')].values()])\n",
    "ax.set_xticklabels(XXXX[('sigmax', 'sigmax', 'sigmax', 'sigmax')].keys(), rotation=45, ha='center')\n",
    "\n",
    "fig, ax = plt.subplots()\n",
    "plt.bar(ZZZZ[('sigmaz', 'sigmaz', 'sigmaz', 'sigmaz')].keys(),\n",
    "        ZZZZ[('sigmaz', 'sigmaz', 'sigmaz', 'sigmaz')].values(),\n",
    "        yerr = [np.sqrt(i) for i in ZZZZ[('sigmaz', 'sigmaz', 'sigmaz', 'sigmaz')].values()])\n",
    "ax.set_xticklabels(ZZZZ[('sigmaz', 'sigmaz', 'sigmaz', 'sigmaz')].keys(), rotation=45, ha='center')"
   ],
   "metadata": {
    "collapsed": false,
    "pycharm": {
     "name": "#%%\n"
    }
   }
  },
  {
   "cell_type": "code",
   "execution_count": 14,
   "outputs": [],
   "source": [
    "jobx, XXXX = get_job_results(qpu2,\n",
    "                             token_qcloud,\n",
    "                             jobx_id,\n",
    "                             projector=('sigmax', 'sigmax', 'sigmax', 'sigmax'),\n",
    "                             normalize=True)\n",
    "jobz, ZZZZ = get_job_results(qpu2,\n",
    "                             token_qcloud,\n",
    "                             jobz_id,\n",
    "                             projector=('sigmaz', 'sigmaz', 'sigmaz', 'sigmaz'),\n",
    "                             normalize=True)"
   ],
   "metadata": {
    "collapsed": false,
    "pycharm": {
     "name": "#%%\n"
    }
   }
  },
  {
   "cell_type": "code",
   "execution_count": 17,
   "outputs": [
    {
     "name": "stdout",
     "output_type": "stream",
     "text": [
      "-0.9431485683414369\n",
      "0.9715742841707184\n"
     ]
    },
    {
     "data": {
      "text/plain": "<Figure size 1152x576 with 1 Axes>",
      "image/png": "[encoded data removed]"
     },
     "metadata": {
      "needs_background": "light"
     },
     "output_type": "display_data"
    }
   ],
   "source": [
    "# Plot the stabilizers and compute the witness and the lower bound to the fidelity\n",
    "def output_state_sign(context, output_state):\n",
    "    measurement_output = {'0': -1, '1': 1}\n",
    "\n",
    "    signs_dict = {0: measurement_output,\n",
    "                  1: measurement_output,\n",
    "                  2: measurement_output,\n",
    "                  3: measurement_output\n",
    "                  }\n",
    "\n",
    "    # 2 partite context\n",
    "    if context.count('|') == 2:\n",
    "        # Find which party are involved\n",
    "        [party_involved_1, party_involved_2] = [i for i, e in enumerate(list(context)) if e != '|']\n",
    "\n",
    "        sign_party_involved_1 = signs_dict[party_involved_1][output_state[party_involved_1]]\n",
    "        sign_party_involved_2 = signs_dict[party_involved_2][output_state[party_involved_2]]\n",
    "        return int(sign_party_involved_1 * sign_party_involved_2)\n",
    "\n",
    "    # 4 partite context\n",
    "    if context.count('|') == 0:\n",
    "        sign_1 = signs_dict[0][output_state[0]]\n",
    "        sign_2 = signs_dict[1][output_state[1]]\n",
    "        sign_3 = signs_dict[2][output_state[2]]\n",
    "        sign_4 = signs_dict[3][output_state[3]]\n",
    "        return int(sign_1 * sign_2 * sign_3 * sign_4)\n",
    "\n",
    "    # 4 partite context\n",
    "    if context.count('|') == 4:\n",
    "        return 1\n",
    "\n",
    "# Compute g1\n",
    "projector = ('sigmax', 'sigmax', 'sigmax', 'sigmax')\n",
    "output_bit_string = [\"\".join(i) for i in list(itertools.product(['0', '1'], repeat=4))]\n",
    "\n",
    "g1 = 0\n",
    "for outcome in output_bit_string:\n",
    "    g1 += XXXX[projector][outcome] * output_state_sign('0000', outcome)\n",
    "\n",
    "\n",
    "def get_gk(context):\n",
    "    projector = ('sigmaz', 'sigmaz', 'sigmaz', 'sigmaz')\n",
    "    output_bit_string = [\"\".join(i) for i in list(itertools.product(['0', '1'], repeat=4))]\n",
    "\n",
    "    gk = 0\n",
    "    for outcome in output_bit_string:\n",
    "        gk += ZZZZ[projector][outcome] * output_state_sign(context, outcome)\n",
    "\n",
    "    return gk\n",
    "\n",
    "sum_gk = (1 +\n",
    "          abs(get_gk('||11')) +\n",
    "          abs(get_gk('|11|')) +\n",
    "          abs(get_gk('|1|1')) +\n",
    "          abs(get_gk('11||')) +\n",
    "          abs(get_gk('1111')) +\n",
    "          abs(get_gk('1|1|')) +\n",
    "          abs(get_gk('1||1'))\n",
    "          )\n",
    "\n",
    "fig, ax = plt.subplots(constrained_layout=True)\n",
    "# ax.bar(stab_str, stab_exp, width=0.5, label=\"Computed from histogram\")\n",
    "ax.bar(['XXXX'], g1, width=0.3)\n",
    "ax.bar(['IIII'], abs(get_gk('||||')), width=0.3)\n",
    "ax.bar(['IIZZ'], abs(get_gk('||11')), width=0.3)\n",
    "ax.bar(['ZZII'], abs(get_gk('11||')), width=0.3)\n",
    "ax.bar(['ZZZZ'], abs(get_gk('1111')), width=0.3)\n",
    "ax.bar(['ZIZI'], abs(get_gk('1|1|')), width=0.3)\n",
    "ax.bar(['ZIIZ'], abs(get_gk('1||1')), width=0.3)\n",
    "\n",
    "ax.grid(True)\n",
    "ax.set_xlabel('4-qubit operators', fontsize=32)\n",
    "ax.set_ylabel('Expectation value', fontsize=32)\n",
    "ax.set_ylim(0, 1.1)\n",
    "ax.tick_params(direction='in', bottom=True, top=True, left=True, right=True, labelsize=32)\n",
    "\n",
    "W_GHZ = 3 - 2 * ((g1 + 1) / 2 + sum_gk / 8)\n",
    "\n",
    "print(W_GHZ)\n",
    "print((1 - W_GHZ) / 2)"
   ],
   "metadata": {
    "collapsed": false,
    "pycharm": {
     "name": "#%%\n"
    }
   }
  }
 ],
 "metadata": {
  "kernelspec": {
   "display_name": "Python 3",
   "language": "python",
   "name": "python3"
  },
  "language_info": {
   "codemirror_mode": {
    "name": "ipython",
    "version": 2
   },
   "file_extension": ".py",
   "mimetype": "text/x-python",
   "name": "python",
   "nbconvert_exporter": "python",
   "pygments_lexer": "ipython2",
   "version": "2.7.6"
  }
 },
 "nbformat": 4,
 "nbformat_minor": 0
}